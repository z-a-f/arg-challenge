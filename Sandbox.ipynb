{
 "cells": [
  {
   "cell_type": "code",
   "execution_count": 137,
   "id": "7a462bfa-6865-40ee-a895-f9bc48b9c52a",
   "metadata": {
    "tags": []
   },
   "outputs": [],
   "source": [
    "import os\n",
    "\n",
    "import argparse\n",
    "import json\n",
    "\n",
    "import matplotlib as mpl\n",
    "import matplotlib.colors as mcl\n",
    "import matplotlib.pyplot as plt\n",
    "import numpy as np\n",
    "\n",
    "import torch\n",
    "from torch import nn"
   ]
  },
  {
   "cell_type": "code",
   "execution_count": 142,
   "id": "a30e5ab0-de83-4b85-aa13-7d5b29519052",
   "metadata": {
    "tags": []
   },
   "outputs": [],
   "source": [
    "FULL_PATH = '/mlx/users/zafar.takhirov/repo/ARC-AGI'  # Need this in case of a cluster submission which loses relative path information\n",
    "DATA_PATH = os.path.join(FULL_PATH, 'third-party', 'ARC-AGI', 'data')\n",
    "TRAIN_PATH = os.path.join(DATA_PATH, 'training')\n",
    "\n",
    "# COLORS = ['#a6cee3','#1f78b4','#b2df8a','#33a02c','#fb9a99','#e31a1c','#fdbf6f','#ff7f00','#cab2d6','#6a3d9a']\n",
    "COLORS = [\n",
    "    '#000',     # black\n",
    "    '#0074D9',  # blue\n",
    "    '#FF4136',  # red\n",
    "    '#2ECC40',  # green\n",
    "    '#FFDC00',  # yellow\n",
    "    '#AAAAAA',  # grey\n",
    "    '#F012BE',  # fuschia\n",
    "    '#FF851B',  # orange\n",
    "    '#7FDBFF',  # teal\n",
    "    '#870C25',  # brown\n",
    "]\n",
    "\n",
    "CMAP = mpl.colors.ListedColormap(list(map(mcl.to_rgba, COLORS)))"
   ]
  },
  {
   "cell_type": "code",
   "execution_count": 144,
   "id": "4820a172-681d-4489-993b-77611a3a365a",
   "metadata": {
    "tags": []
   },
   "outputs": [
    {
     "data": {
      "text/plain": [
       "[(0.0, 0.0, 0.0, 1.0),\n",
       " (0.0, 0.4549019607843137, 0.8509803921568627, 1.0),\n",
       " (1.0, 0.2549019607843137, 0.21176470588235294, 1.0),\n",
       " (0.1803921568627451, 0.8, 0.25098039215686274, 1.0),\n",
       " (1.0, 0.8627450980392157, 0.0, 1.0),\n",
       " (0.6666666666666666, 0.6666666666666666, 0.6666666666666666, 1.0),\n",
       " (0.9411764705882353, 0.07058823529411765, 0.7450980392156863, 1.0),\n",
       " (1.0, 0.5215686274509804, 0.10588235294117647, 1.0),\n",
       " (0.4980392156862745, 0.8588235294117647, 1.0, 1.0),\n",
       " (0.5294117647058824, 0.047058823529411764, 0.1450980392156863, 1.0)]"
      ]
     },
     "execution_count": 144,
     "metadata": {},
     "output_type": "execute_result"
    }
   ],
   "source": [
    "CMAP.colors"
   ]
  },
  {
   "cell_type": "code",
   "execution_count": 150,
   "id": "d56dd099-b83b-4cb8-aee8-81fb9a13fffb",
   "metadata": {
    "tags": []
   },
   "outputs": [],
   "source": [
    "def draw_grid(data, ax=None):\n",
    "    '''Visualizes a single item'''\n",
    "    if ax is None:\n",
    "        ax = plt.gca()\n",
    "    data_shape = np.shape(data)\n",
    "    ax.tick_params(bottom=False, top=False, left=False, right=False, labelbottom=False, labelleft=False)\n",
    "    ax.grid(axis='both', color='w', linewidth=0.5)\n",
    "    ax.imshow(data, cmap=CMAP, vmin=0, vmax=CMAP.N)\n",
    "    ax.set_xticks(np.arange(0.5, data_shape[1], 1))\n",
    "    ax.set_yticks(np.arange(0.5, data_shape[0], 1))\n",
    "    return ax\n",
    "\n",
    "def visualize(data, ax=None):\n",
    "    '''Visualizes the ARC task\n",
    "\n",
    "    Data should have the following structure:\n",
    "        {\n",
    "            'train': [  # Pattern to understand the task\n",
    "                {'input': [...], 'output': [...]},\n",
    "                {'input': [...], 'output': [...]},\n",
    "                ...\n",
    "            ],\n",
    "            'test': [   # Pattern to predict\n",
    "                {'input': [...], 'output': [...]},\n",
    "                {'input': [...], 'output': [...]},\n",
    "                ...\n",
    "            ]\n",
    "        }\n",
    "    '''\n",
    "    num_train = len(data['train'])\n",
    "    num_test = len(data['test'])\n",
    "    \n",
    "    num_rows = max(num_train, num_test)\n",
    "    num_cols = 2 * ((num_train > 0) + (num_test > 0))\n",
    "    \n",
    "    fig = None\n",
    "    if ax is None:\n",
    "        fig, ax = plt.subplots(num_rows, num_cols,\n",
    "                               figsize=(2 * num_cols, 2 * num_rows))\n",
    "    if fig is None:\n",
    "        fig = plt.gcf()\n",
    "    \n",
    "    for a in ax.flat:\n",
    "        a.tick_params(bottom=False, top=False, left=False, right=False, labelbottom=False, labelleft=False)\n",
    "    \n",
    "    for idx in range(num_train):\n",
    "        draw_grid(data['train'][idx]['input'], ax[idx, 0])\n",
    "        draw_grid(data['train'][idx]['output'], ax[idx, 1])\n",
    "    for idx in range(num_test):\n",
    "        draw_grid(data['test'][idx]['input'], ax[idx, 2])\n",
    "        draw_grid(data['test'][idx]['output'], ax[idx, 3])\n",
    "\n",
    "    fig.tight_layout()\n",
    "\n",
    "    return fig, ax"
   ]
  },
  {
   "cell_type": "code",
   "execution_count": 155,
   "id": "0ce18576-3c1c-45a4-9e72-dcf625429094",
   "metadata": {
    "tags": []
   },
   "outputs": [
    {
     "data": {
      "image/png": "[encoded data removed]",
      "text/plain": [
       "<Figure size 800x1400 with 28 Axes>"
      ]
     },
     "metadata": {},
     "output_type": "display_data"
    }
   ],
   "source": [
    "all_files = os.listdir(TRAIN_PATH)\n",
    "file_num = 59\n",
    "\n",
    "with open(os.path.join(TRAIN_PATH, all_files[file_num])) as f:\n",
    "    data = json.load(f)\n",
    "\n",
    "fig, ax = visualize(data)"
   ]
  },
  {
   "cell_type": "code",
   "execution_count": 152,
   "id": "6eea016f-6ab3-4424-ae60-0e24253731ff",
   "metadata": {},
   "outputs": [
    {
     "data": {
      "text/plain": [
       "{'train': [{'input': [[5, 5, 0], [5, 0, 5], [0, 5, 0]], 'output': [[1]]},\n",
       "  {'input': [[8, 0, 8], [0, 8, 0], [8, 0, 8]], 'output': [[2]]},\n",
       "  {'input': [[5, 0, 5], [0, 5, 0], [5, 0, 5]], 'output': [[2]]},\n",
       "  {'input': [[0, 1, 1], [0, 1, 1], [1, 0, 0]], 'output': [[3]]},\n",
       "  {'input': [[0, 8, 8], [0, 8, 8], [8, 0, 0]], 'output': [[3]]},\n",
       "  {'input': [[4, 4, 0], [4, 0, 4], [0, 4, 0]], 'output': [[1]]},\n",
       "  {'input': [[0, 5, 0], [5, 5, 5], [0, 5, 0]], 'output': [[6]]}],\n",
       " 'test': [{'input': [[0, 8, 0], [8, 8, 8], [0, 8, 0]], 'output': [[6]]},\n",
       "  {'input': [[7, 7, 0], [7, 0, 7], [0, 7, 0]], 'output': [[1]]},\n",
       "  {'input': [[2, 0, 2], [0, 2, 0], [2, 0, 2]], 'output': [[2]]}]}"
      ]
     },
     "execution_count": 152,
     "metadata": {},
     "output_type": "execute_result"
    }
   ],
   "source": [
    "data"
   ]
  },
  {
   "cell_type": "code",
   "execution_count": 153,
   "id": "5deb8566-80b7-4c86-bf0b-62468f1d1358",
   "metadata": {
    "tags": []
   },
   "outputs": [
    {
     "data": {
      "image/png": "[encoded data removed]",
      "text/html": [
       "<div style=\"vertical-align: middle;\"><strong>from_list</strong> </div><div class=\"cmap\"><img alt=\"from_list colormap\" title=\"from_list\" style=\"border: 1px solid #555;\" src=\"data:image/png;base64,iVBORw0KGgoAAAANSUhEUgAAAgAAAABACAYAAABsv8+/AAAAGHRFWHRUaXRsZQBmcm9tX2xpc3QgY29sb3JtYXBDL89FAAAAHnRFWHREZXNjcmlwdGlvbgBmcm9tX2xpc3QgY29sb3JtYXABtCnOAAAAMHRFWHRBdXRob3IATWF0cGxvdGxpYiB2My44LjAsIGh0dHBzOi8vbWF0cGxvdGxpYi5vcmefc/hPAAAAMnRFWHRTb2Z0d2FyZQBNYXRwbG90bGliIHYzLjguMCwgaHR0cHM6Ly9tYXRwbG90bGliLm9yZ7HVZ2gAAAF5SURBVHic7dahTYNhGIXRv1UEQwUzYAlLMAIOj4cB8GwCS7AATZB49ihLfOFN+pwzwTU3eXbbtp22c/LyM71gmdPX4/SEZW7fLqcnLPN9+JyesMzH8X16wjL3T9fTE5a5ej6f778+/E5PWObi7mZ6wlL76QEAwP8TAAAQJAAAIEgAAECQAACAIAEAAEECAACCBAAABAkAAAgSAAAQJAAAIEgAAECQAACAIAEAAEECAACCBAAABAkAAAgSAAAQJAAAIEgAAECQAACAIAEAAEECAACCBAAABAkAAAgSAAAQJAAAIEgAAECQAACAIAEAAEECAACCBAAABAkAAAgSAAAQJAAAIEgAAECQAACAIAEAAEECAACCBAAABAkAAAgSAAAQJAAAIEgAAECQAACAIAEAAEECAACCBAAABAkAAAgSAAAQJAAAIEgAAECQAACAIAEAAEECAACCBAAABAkAAAgSAAAQJAAAIEgAAECQAACAIAEAAEECAACC/gBLdA03IplQzgAAAABJRU5ErkJggg==\"></div><div style=\"vertical-align: middle; max-width: 514px; display: flex; justify-content: space-between;\"><div style=\"float: left;\"><div title=\"#000000ff\" style=\"display: inline-block; width: 1em; height: 1em; margin: 0; vertical-align: middle; border: 1px solid #555; background-color: #000000ff;\"></div> under</div><div style=\"margin: 0 auto; display: inline-block;\">bad <div title=\"#00000000\" style=\"display: inline-block; width: 1em; height: 1em; margin: 0; vertical-align: middle; border: 1px solid #555; background-color: #00000000;\"></div></div><div style=\"float: right;\">over <div title=\"#870c25ff\" style=\"display: inline-block; width: 1em; height: 1em; margin: 0; vertical-align: middle; border: 1px solid #555; background-color: #870c25ff;\"></div></div>"
      ],
      "text/plain": [
       "<matplotlib.colors.ListedColormap at 0x7f53bc2be3a0>"
      ]
     },
     "execution_count": 153,
     "metadata": {},
     "output_type": "execute_result"
    }
   ],
   "source": [
    "CMAP"
   ]
  },
  {
   "cell_type": "code",
   "execution_count": 79,
   "id": "fb52a9c3-646e-4b69-8050-1d75fad2be56",
   "metadata": {
    "tags": []
   },
   "outputs": [
    {
     "data": {
      "text/plain": [
       "{'input': [[0, 0, 0, 0, 0, 0, 0, 0, 0, 0, 0, 0, 0, 0],\n",
       "  [0, 0, 0, 0, 0, 0, 0, 8, 8, 0, 0, 0, 0, 0],\n",
       "  [0, 0, 0, 0, 0, 0, 0, 8, 8, 0, 0, 0, 0, 0],\n",
       "  [0, 0, 0, 0, 0, 0, 0, 0, 0, 8, 4, 0, 0, 0],\n",
       "  [0, 0, 0, 0, 0, 0, 0, 0, 0, 0, 6, 0, 0, 0],\n",
       "  [0, 0, 0, 0, 0, 0, 0, 0, 0, 0, 0, 0, 0, 0],\n",
       "  [0, 0, 0, 0, 0, 0, 0, 0, 0, 0, 0, 0, 0, 0],\n",
       "  [0, 0, 0, 0, 0, 1, 0, 0, 0, 0, 0, 0, 0, 0],\n",
       "  [0, 0, 0, 0, 2, 4, 0, 0, 0, 0, 0, 0, 0, 0],\n",
       "  [0, 2, 2, 2, 2, 0, 0, 0, 0, 0, 0, 0, 0, 0],\n",
       "  [0, 0, 0, 2, 0, 0, 0, 0, 0, 0, 0, 0, 0, 0],\n",
       "  [0, 0, 0, 0, 0, 0, 0, 0, 0, 0, 0, 0, 0, 0],\n",
       "  [0, 0, 0, 0, 0, 0, 0, 0, 0, 0, 0, 0, 0, 0],\n",
       "  [0, 0, 0, 0, 0, 0, 0, 0, 0, 0, 0, 0, 0, 0]],\n",
       " 'output': [[0, 0, 0, 0, 0, 0, 0, 0, 0, 0, 0, 0, 0, 0],\n",
       "  [0, 0, 0, 0, 0, 0, 0, 8, 8, 0, 0, 4, 4, 0],\n",
       "  [0, 0, 0, 0, 0, 0, 0, 8, 8, 0, 0, 4, 4, 0],\n",
       "  [0, 0, 0, 0, 0, 0, 0, 0, 0, 8, 4, 0, 0, 0],\n",
       "  [0, 0, 0, 0, 0, 0, 0, 0, 0, 0, 6, 0, 0, 0],\n",
       "  [0, 0, 0, 0, 0, 0, 1, 0, 0, 0, 0, 6, 6, 0],\n",
       "  [0, 0, 0, 0, 0, 1, 1, 1, 1, 0, 0, 6, 6, 0],\n",
       "  [0, 0, 0, 0, 0, 1, 0, 0, 0, 0, 0, 0, 0, 0],\n",
       "  [0, 0, 0, 0, 2, 4, 0, 0, 0, 0, 0, 0, 0, 0],\n",
       "  [0, 2, 2, 2, 2, 4, 4, 4, 4, 0, 0, 0, 0, 0],\n",
       "  [0, 0, 0, 2, 0, 0, 4, 0, 0, 0, 0, 0, 0, 0],\n",
       "  [0, 0, 0, 0, 0, 0, 0, 0, 0, 0, 0, 0, 0, 0],\n",
       "  [0, 0, 0, 0, 0, 0, 0, 0, 0, 0, 0, 0, 0, 0],\n",
       "  [0, 0, 0, 0, 0, 0, 0, 0, 0, 0, 0, 0, 0, 0]]}"
      ]
     },
     "execution_count": 79,
     "metadata": {},
     "output_type": "execute_result"
    }
   ],
   "source": [
    "question"
   ]
  },
  {
   "cell_type": "code",
   "execution_count": 118,
   "id": "4d8c6c98-c693-4f8b-83cd-ef9ac373d8c8",
   "metadata": {
    "tags": []
   },
   "outputs": [],
   "source": [
    "max_num_rows = 0\n",
    "max_num_cols = 0\n",
    "max_num_examples = 0\n",
    "idx_max_examples = None\n",
    "idx_max_test_examples = None\n",
    "max_test_examples = 0\n",
    "\n",
    "for idx, file in enumerate(all_files):\n",
    "    with open(os.path.join(TRAIN_PATH, file)) as f:\n",
    "        data = json.load(f)\n",
    "    for target in ('train', 'test'):\n",
    "        for example in data[target]:\n",
    "            # Input\n",
    "            rows, cols = np.shape(example['input'])\n",
    "            max_num_rows = max(max_num_rows, rows)\n",
    "            max_num_cols = max(max_num_cols, cols)\n",
    "            # Output\n",
    "            rows, cols = np.shape(example['output'])\n",
    "            max_num_rows = max(max_num_rows, rows)\n",
    "            max_num_cols = max(max_num_cols, cols)\n",
    "    if len(data['train']) > max_num_examples:\n",
    "        max_num_examples = len(data['train'])\n",
    "        idx_max_examples = idx\n",
    "    if len(data['test']) > max_test_examples:\n",
    "        max_test_examples = len(data['test'])\n",
    "        idx_max_test_examples = idx\n",
    "    max_test_examples = max(max_test_examples, len(data['test']))"
   ]
  },
  {
   "cell_type": "code",
   "execution_count": 119,
   "id": "3ff8e620-2239-4a0e-96a5-08a6fc731d3a",
   "metadata": {
    "tags": []
   },
   "outputs": [
    {
     "data": {
      "text/plain": [
       "(30, 30, 10, 204, 3, 59)"
      ]
     },
     "execution_count": 119,
     "metadata": {},
     "output_type": "execute_result"
    }
   ],
   "source": [
    "max_num_rows, max_num_cols, max_num_examples, idx_max_examples, max_test_examples, idx_max_test_examples"
   ]
  },
  {
   "cell_type": "code",
   "execution_count": 113,
   "id": "ed03de0d-3ad0-4d17-a867-3060e4596172",
   "metadata": {
    "tags": []
   },
   "outputs": [
    {
     "data": {
      "text/plain": [
       "[0, 1, 2, 3, 4, 8, 9]"
      ]
     },
     "execution_count": 113,
     "metadata": {},
     "output_type": "execute_result"
    }
   ],
   "source": [
    "list(set(np.unique(example['input'])) | (set([1,9])))"
   ]
  },
  {
   "cell_type": "code",
   "execution_count": null,
   "id": "c070de56-a683-4670-a241-d2d58426f496",
   "metadata": {},
   "outputs": [],
   "source": [
    "class ImageTokenizer:\n",
    "    def __init__(self, max_rows, max_cols, max_examples)\n",
    "        self.max_rows = max_rows\n",
    "        self.max_cols = max_cols\n",
    "        # self.max_examples = max_examples\n",
    "        # self.normalize = normalize\n",
    "        \n",
    "        self._word_tokens = np.arange(10)\n",
    "        self._skip_reserve = 10\n",
    "        self._control_tokens = {}\n",
    "        \n",
    "        self.append_token('<UNK>')\n",
    "        self.append_token('<MASK>')\n",
    "        self.append_token('<SKIP>')\n",
    "    \n",
    "        # self.UNK = '<UNK>'\n",
    "        # self.MASK = '<MASK>'\n",
    "        # self.SKIP = '<SKIP>'\n",
    "    \n",
    "    def append_token(self, name):\n",
    "        if name in self._control_tokens:\n",
    "            raise ValueError(f'{name} is already set')\n",
    "        next_token = len(self._word_tokens) + self._skip_reserve + len(self._control_tokens)\n",
    "        self.set_token(name, next_token)\n",
    "        \n",
    "    def set_token(self, name, token):\n",
    "        self._control_tokens[name] = token\n",
    "    \n",
    "    @property\n",
    "    def UNK(self):\n",
    "        return self._control_tokens.get('<UNK>', None)\n",
    "    @UNK.setter\n",
    "    def UNK(self, token\n",
    "    \n",
    "        \n",
    "            "
   ]
  }
 ],
 "metadata": {
  "kernelspec": {
   "display_name": "Python 3 (ipykernel)",
   "language": "python",
   "name": "python3"
  },
  "language_info": {
   "codemirror_mode": {
    "name": "ipython",
    "version": 3
   },
   "file_extension": ".py",
   "mimetype": "text/x-python",
   "name": "python",
   "nbconvert_exporter": "python",
   "pygments_lexer": "ipython3",
   "version": "3.9.2"
  }
 },
 "nbformat": 4,
 "nbformat_minor": 5
}
